{
 "cells": [
  {
   "cell_type": "code",
   "execution_count": 4,
   "metadata": {},
   "outputs": [
    {
     "ename": "ConverterFileException",
     "evalue": "cannot find a format extensions for: /Users/zac/Downloads/Choo Lo.mp3",
     "output_type": "error",
     "traceback": [
      "\u001b[0;31m---------------------------------------------------------------------------\u001b[0m",
      "\u001b[0;31mConverterFileException\u001b[0m                    Traceback (most recent call last)",
      "Cell \u001b[0;32mIn[4], line 14\u001b[0m\n\u001b[1;32m     12\u001b[0m \u001b[38;5;66;03m# Example usage\u001b[39;00m\n\u001b[1;32m     13\u001b[0m mp3_file_path \u001b[38;5;241m=\u001b[39m \u001b[38;5;124m\"\u001b[39m\u001b[38;5;124m/Users/zac/Downloads/Choo Lo.mp3\u001b[39m\u001b[38;5;124m\"\u001b[39m\n\u001b[0;32m---> 14\u001b[0m song_key \u001b[38;5;241m=\u001b[39m get_song_key(mp3_file_path)\n\u001b[1;32m     15\u001b[0m \u001b[38;5;28mprint\u001b[39m(\u001b[38;5;124m\"\u001b[39m\u001b[38;5;124mKey of the song:\u001b[39m\u001b[38;5;124m\"\u001b[39m, song_key\u001b[38;5;241m.\u001b[39mtonic, song_key\u001b[38;5;241m.\u001b[39mmode)\n",
      "Cell \u001b[0;32mIn[4], line 5\u001b[0m, in \u001b[0;36mget_song_key\u001b[0;34m(mp3_file)\u001b[0m\n\u001b[1;32m      3\u001b[0m \u001b[38;5;28;01mdef\u001b[39;00m \u001b[38;5;21mget_song_key\u001b[39m(mp3_file):\n\u001b[1;32m      4\u001b[0m     \u001b[38;5;66;03m# Convert MP3 to Music21 Stream\u001b[39;00m\n\u001b[0;32m----> 5\u001b[0m     stream \u001b[38;5;241m=\u001b[39m converter\u001b[38;5;241m.\u001b[39mparse(mp3_file)\n\u001b[1;32m      7\u001b[0m     \u001b[38;5;66;03m# Get key signature\u001b[39;00m\n\u001b[1;32m      8\u001b[0m     ks \u001b[38;5;241m=\u001b[39m stream\u001b[38;5;241m.\u001b[39manalyze(\u001b[38;5;124m'\u001b[39m\u001b[38;5;124mkey\u001b[39m\u001b[38;5;124m'\u001b[39m)\n",
      "File \u001b[0;32m~/anaconda3/envs/model_music/lib/python3.11/site-packages/music21/converter/__init__.py:1409\u001b[0m, in \u001b[0;36mparse\u001b[0;34m(value, forceSource, number, format, **keywords)\u001b[0m\n\u001b[1;32m   1406\u001b[0m     \u001b[38;5;28;01mreturn\u001b[39;00m parseData(value, number\u001b[38;5;241m=\u001b[39mnumber, \u001b[38;5;28mformat\u001b[39m\u001b[38;5;241m=\u001b[39m\u001b[38;5;28mformat\u001b[39m, \u001b[38;5;241m*\u001b[39m\u001b[38;5;241m*\u001b[39mkeywords)\n\u001b[1;32m   1407\u001b[0m \u001b[38;5;28;01melif\u001b[39;00m (\u001b[38;5;129;01mnot\u001b[39;00m \u001b[38;5;28misinstance\u001b[39m(value, \u001b[38;5;28mbytes\u001b[39m)\n\u001b[1;32m   1408\u001b[0m       \u001b[38;5;129;01mand\u001b[39;00m _osCanLoad(valueStr)):\n\u001b[0;32m-> 1409\u001b[0m     \u001b[38;5;28;01mreturn\u001b[39;00m parseFile(valueStr, number\u001b[38;5;241m=\u001b[39mnumber, \u001b[38;5;28mformat\u001b[39m\u001b[38;5;241m=\u001b[39m\u001b[38;5;28mformat\u001b[39m,\n\u001b[1;32m   1410\u001b[0m                      forceSource\u001b[38;5;241m=\u001b[39mforceSource, \u001b[38;5;241m*\u001b[39m\u001b[38;5;241m*\u001b[39mkeywords)\n\u001b[1;32m   1411\u001b[0m \u001b[38;5;28;01melif\u001b[39;00m (\u001b[38;5;129;01mnot\u001b[39;00m \u001b[38;5;28misinstance\u001b[39m(value, \u001b[38;5;28mbytes\u001b[39m)\n\u001b[1;32m   1412\u001b[0m       \u001b[38;5;129;01mand\u001b[39;00m _osCanLoad(common\u001b[38;5;241m.\u001b[39mcleanpath(valueStr))):\n\u001b[1;32m   1413\u001b[0m     \u001b[38;5;28;01mreturn\u001b[39;00m parseFile(common\u001b[38;5;241m.\u001b[39mcleanpath(valueStr), number\u001b[38;5;241m=\u001b[39mnumber, \u001b[38;5;28mformat\u001b[39m\u001b[38;5;241m=\u001b[39m\u001b[38;5;28mformat\u001b[39m,\n\u001b[1;32m   1414\u001b[0m                      forceSource\u001b[38;5;241m=\u001b[39mforceSource, \u001b[38;5;241m*\u001b[39m\u001b[38;5;241m*\u001b[39mkeywords)\n",
      "File \u001b[0;32m~/anaconda3/envs/model_music/lib/python3.11/site-packages/music21/converter/__init__.py:1263\u001b[0m, in \u001b[0;36mparseFile\u001b[0;34m(fp, number, format, forceSource, **keywords)\u001b[0m\n\u001b[1;32m   1261\u001b[0m v \u001b[38;5;241m=\u001b[39m Converter()\n\u001b[1;32m   1262\u001b[0m fp \u001b[38;5;241m=\u001b[39m common\u001b[38;5;241m.\u001b[39mcleanpath(fp, returnPathlib\u001b[38;5;241m=\u001b[39m\u001b[38;5;28;01mTrue\u001b[39;00m)\n\u001b[0;32m-> 1263\u001b[0m v\u001b[38;5;241m.\u001b[39mparseFile(fp, number\u001b[38;5;241m=\u001b[39mnumber, \u001b[38;5;28mformat\u001b[39m\u001b[38;5;241m=\u001b[39m\u001b[38;5;28mformat\u001b[39m, forceSource\u001b[38;5;241m=\u001b[39mforceSource, \u001b[38;5;241m*\u001b[39m\u001b[38;5;241m*\u001b[39mkeywords)\n\u001b[1;32m   1264\u001b[0m \u001b[38;5;28;01mif\u001b[39;00m t\u001b[38;5;241m.\u001b[39mTYPE_CHECKING:\n\u001b[1;32m   1265\u001b[0m     \u001b[38;5;28;01massert\u001b[39;00m \u001b[38;5;28misinstance\u001b[39m(v\u001b[38;5;241m.\u001b[39mstream, (stream\u001b[38;5;241m.\u001b[39mScore, stream\u001b[38;5;241m.\u001b[39mPart, stream\u001b[38;5;241m.\u001b[39mOpus))\n",
      "File \u001b[0;32m~/anaconda3/envs/model_music/lib/python3.11/site-packages/music21/converter/__init__.py:626\u001b[0m, in \u001b[0;36mConverter.parseFile\u001b[0;34m(self, fp, number, format, forceSource, storePickle, **keywords)\u001b[0m\n\u001b[1;32m    623\u001b[0m useFormat \u001b[38;5;241m=\u001b[39m \u001b[38;5;28mformat\u001b[39m\n\u001b[1;32m    625\u001b[0m \u001b[38;5;28;01mif\u001b[39;00m useFormat \u001b[38;5;129;01mis\u001b[39;00m \u001b[38;5;28;01mNone\u001b[39;00m:\n\u001b[0;32m--> 626\u001b[0m     useFormat \u001b[38;5;241m=\u001b[39m \u001b[38;5;28mself\u001b[39m\u001b[38;5;241m.\u001b[39mgetFormatFromFileExtension(fp)\n\u001b[1;32m    628\u001b[0m pfObj \u001b[38;5;241m=\u001b[39m PickleFilter(fp, forceSource, number, \u001b[38;5;241m*\u001b[39m\u001b[38;5;241m*\u001b[39mkeywords)\n\u001b[1;32m    629\u001b[0m unused_fpDst, writePickle, fpPickle \u001b[38;5;241m=\u001b[39m pfObj\u001b[38;5;241m.\u001b[39mstatus()\n",
      "File \u001b[0;32m~/anaconda3/envs/model_music/lib/python3.11/site-packages/music21/converter/__init__.py:604\u001b[0m, in \u001b[0;36mConverter.getFormatFromFileExtension\u001b[0;34m(self, fp)\u001b[0m\n\u001b[1;32m    602\u001b[0m     useFormat \u001b[38;5;241m=\u001b[39m common\u001b[38;5;241m.\u001b[39mfindFormatFile(fp)\n\u001b[1;32m    603\u001b[0m     \u001b[38;5;28;01mif\u001b[39;00m useFormat \u001b[38;5;129;01mis\u001b[39;00m \u001b[38;5;28;01mNone\u001b[39;00m:\n\u001b[0;32m--> 604\u001b[0m         \u001b[38;5;28;01mraise\u001b[39;00m ConverterFileException(\u001b[38;5;124mf\u001b[39m\u001b[38;5;124m'\u001b[39m\u001b[38;5;124mcannot find a format extensions for: \u001b[39m\u001b[38;5;132;01m{\u001b[39;00mfp\u001b[38;5;132;01m}\u001b[39;00m\u001b[38;5;124m'\u001b[39m)\n\u001b[1;32m    605\u001b[0m \u001b[38;5;28;01mreturn\u001b[39;00m useFormat\n",
      "\u001b[0;31mConverterFileException\u001b[0m: cannot find a format extensions for: /Users/zac/Downloads/Choo Lo.mp3"
     ]
    }
   ],
   "source": [
    "from music21 import converter, key\n",
    "\n",
    "def get_song_key(mp3_file):\n",
    "    # Convert MP3 to Music21 Stream\n",
    "    stream = converter.parse(mp3_file)\n",
    "    \n",
    "    # Get key signature\n",
    "    ks = stream.analyze('key')\n",
    "    \n",
    "    return ks\n",
    "\n",
    "# Example usage\n",
    "mp3_file_path = \"/Users/zac/Downloads/Choo Lo.mp3\"\n",
    "song_key = get_song_key(mp3_file_path)\n",
    "print(\"Key of the song:\", song_key.tonic, song_key.mode)\n"
   ]
  },
  {
   "cell_type": "code",
   "execution_count": 1,
   "metadata": {},
   "outputs": [
    {
     "ename": "ValueError",
     "evalue": "input size of pitch should be 2, not 512",
     "output_type": "error",
     "traceback": [
      "\u001b[0;31m---------------------------------------------------------------------------\u001b[0m",
      "\u001b[0;31mValueError\u001b[0m                                Traceback (most recent call last)",
      "Cell \u001b[0;32mIn[1], line 51\u001b[0m\n\u001b[1;32m     49\u001b[0m \u001b[38;5;66;03m# Example usage\u001b[39;00m\n\u001b[1;32m     50\u001b[0m mp3_file_path \u001b[38;5;241m=\u001b[39m \u001b[38;5;124m\"\u001b[39m\u001b[38;5;124m/Users/zac/Downloads/Choo Lo.mp3\u001b[39m\u001b[38;5;124m\"\u001b[39m\n\u001b[0;32m---> 51\u001b[0m song_key \u001b[38;5;241m=\u001b[39m get_song_key(mp3_file_path)\n\u001b[1;32m     52\u001b[0m \u001b[38;5;28mprint\u001b[39m(\u001b[38;5;124m\"\u001b[39m\u001b[38;5;124mKey of the song:\u001b[39m\u001b[38;5;124m\"\u001b[39m, song_key)\n",
      "Cell \u001b[0;32mIn[1], line 18\u001b[0m, in \u001b[0;36mget_song_key\u001b[0;34m(mp3_file)\u001b[0m\n\u001b[1;32m     16\u001b[0m \u001b[38;5;28;01mwhile\u001b[39;00m \u001b[38;5;28;01mTrue\u001b[39;00m:\n\u001b[1;32m     17\u001b[0m     samples, read \u001b[38;5;241m=\u001b[39m audio_source()\n\u001b[0;32m---> 18\u001b[0m     pitch \u001b[38;5;241m=\u001b[39m pitch_o(samples)[\u001b[38;5;241m0\u001b[39m]\n\u001b[1;32m     19\u001b[0m     detected_pitches\u001b[38;5;241m.\u001b[39mappend(pitch)\n\u001b[1;32m     20\u001b[0m     total_frames \u001b[38;5;241m+\u001b[39m\u001b[38;5;241m=\u001b[39m read\n",
      "\u001b[0;31mValueError\u001b[0m: input size of pitch should be 2, not 512"
     ]
    }
   ],
   "source": [
    "import aubio\n",
    "\n",
    "def get_song_key(mp3_file):\n",
    "    # Create aubio source\n",
    "    audio_source = aubio.source(mp3_file)\n",
    "\n",
    "    # Create aubio pitch object\n",
    "    pitch_o = aubio.pitch(\"yin\", audio_source.samplerate, aubio.source.get_channels(audio_source))\n",
    "\n",
    "    # Lists to store detected pitches\n",
    "    detected_pitches = []\n",
    "\n",
    "    # Total number of frames read\n",
    "    total_frames = 0\n",
    "\n",
    "    while True:\n",
    "        samples, read = audio_source()\n",
    "        pitch = pitch_o(samples)[0]\n",
    "        detected_pitches.append(pitch)\n",
    "        total_frames += read\n",
    "        if read < audio_source.hop_size:\n",
    "            break\n",
    "\n",
    "    # Find the most common pitch\n",
    "    most_common_pitch = max(set(detected_pitches), key=detected_pitches.count)\n",
    "\n",
    "    # Map pitch to key\n",
    "    pitch_to_key_map = {\n",
    "        57: \"A\",\n",
    "        58: \"A#\",\n",
    "        59: \"B\",\n",
    "        60: \"C\",\n",
    "        61: \"C#\",\n",
    "        62: \"D\",\n",
    "        63: \"D#\",\n",
    "        64: \"E\",\n",
    "        65: \"F\",\n",
    "        66: \"F#\",\n",
    "        67: \"G\",\n",
    "        68: \"G#\",\n",
    "    }\n",
    "\n",
    "    # Assuming A=57, determine key based on most common pitch\n",
    "    key_number = (most_common_pitch - 57) % 12\n",
    "    key = pitch_to_key_map[key_number]\n",
    "\n",
    "    return key\n",
    "\n",
    "# Example usage\n",
    "mp3_file_path = \"/Users/zac/Downloads/Choo Lo.mp3\"\n",
    "song_key = get_song_key(mp3_file_path)\n",
    "print(\"Key of the song:\", song_key)\n"
   ]
  },
  {
   "cell_type": "code",
   "execution_count": 2,
   "metadata": {},
   "outputs": [
    {
     "ename": "AttributeError",
     "evalue": "No librosa attribute key",
     "output_type": "error",
     "traceback": [
      "\u001b[0;31m---------------------------------------------------------------------------\u001b[0m",
      "\u001b[0;31mAttributeError\u001b[0m                            Traceback (most recent call last)",
      "Cell \u001b[0;32mIn[2], line 21\u001b[0m\n\u001b[1;32m     19\u001b[0m \u001b[38;5;66;03m# Example usage\u001b[39;00m\n\u001b[1;32m     20\u001b[0m mp3_file_path \u001b[38;5;241m=\u001b[39m \u001b[38;5;124m\"\u001b[39m\u001b[38;5;124m/Users/zac/Downloads/Choo Lo.mp3\u001b[39m\u001b[38;5;124m\"\u001b[39m\n\u001b[0;32m---> 21\u001b[0m song_key \u001b[38;5;241m=\u001b[39m get_song_key(mp3_file_path)\n\u001b[1;32m     22\u001b[0m \u001b[38;5;28mprint\u001b[39m(\u001b[38;5;124m\"\u001b[39m\u001b[38;5;124mKey of the song:\u001b[39m\u001b[38;5;124m\"\u001b[39m, song_key)\n",
      "Cell \u001b[0;32mIn[2], line 9\u001b[0m, in \u001b[0;36mget_song_key\u001b[0;34m(mp3_file)\u001b[0m\n\u001b[1;32m      6\u001b[0m y, sr \u001b[38;5;241m=\u001b[39m librosa\u001b[38;5;241m.\u001b[39mload(mp3_file)\n\u001b[1;32m      8\u001b[0m \u001b[38;5;66;03m# Estimate the global key\u001b[39;00m\n\u001b[0;32m----> 9\u001b[0m key, key_strength \u001b[38;5;241m=\u001b[39m librosa\u001b[38;5;241m.\u001b[39mkey\u001b[38;5;241m.\u001b[39mglobal_key(y)\n\u001b[1;32m     11\u001b[0m \u001b[38;5;66;03m# Map the key index to key name\u001b[39;00m\n\u001b[1;32m     12\u001b[0m key_names \u001b[38;5;241m=\u001b[39m [\u001b[38;5;124m'\u001b[39m\u001b[38;5;124mC\u001b[39m\u001b[38;5;124m'\u001b[39m, \u001b[38;5;124m'\u001b[39m\u001b[38;5;124mC#\u001b[39m\u001b[38;5;124m'\u001b[39m, \u001b[38;5;124m'\u001b[39m\u001b[38;5;124mD\u001b[39m\u001b[38;5;124m'\u001b[39m, \u001b[38;5;124m'\u001b[39m\u001b[38;5;124mD#\u001b[39m\u001b[38;5;124m'\u001b[39m, \u001b[38;5;124m'\u001b[39m\u001b[38;5;124mE\u001b[39m\u001b[38;5;124m'\u001b[39m, \u001b[38;5;124m'\u001b[39m\u001b[38;5;124mF\u001b[39m\u001b[38;5;124m'\u001b[39m, \u001b[38;5;124m'\u001b[39m\u001b[38;5;124mF#\u001b[39m\u001b[38;5;124m'\u001b[39m, \u001b[38;5;124m'\u001b[39m\u001b[38;5;124mG\u001b[39m\u001b[38;5;124m'\u001b[39m, \u001b[38;5;124m'\u001b[39m\u001b[38;5;124mG#\u001b[39m\u001b[38;5;124m'\u001b[39m, \u001b[38;5;124m'\u001b[39m\u001b[38;5;124mA\u001b[39m\u001b[38;5;124m'\u001b[39m, \u001b[38;5;124m'\u001b[39m\u001b[38;5;124mA#\u001b[39m\u001b[38;5;124m'\u001b[39m, \u001b[38;5;124m'\u001b[39m\u001b[38;5;124mB\u001b[39m\u001b[38;5;124m'\u001b[39m]\n",
      "File \u001b[0;32m~/anaconda3/envs/model_music/lib/python3.11/site-packages/lazy_loader/__init__.py:88\u001b[0m, in \u001b[0;36mattach.<locals>.__getattr__\u001b[0;34m(name)\u001b[0m\n\u001b[1;32m     86\u001b[0m     \u001b[38;5;28;01mreturn\u001b[39;00m attr\n\u001b[1;32m     87\u001b[0m \u001b[38;5;28;01melse\u001b[39;00m:\n\u001b[0;32m---> 88\u001b[0m     \u001b[38;5;28;01mraise\u001b[39;00m \u001b[38;5;167;01mAttributeError\u001b[39;00m(\u001b[38;5;124mf\u001b[39m\u001b[38;5;124m\"\u001b[39m\u001b[38;5;124mNo \u001b[39m\u001b[38;5;132;01m{\u001b[39;00mpackage_name\u001b[38;5;132;01m}\u001b[39;00m\u001b[38;5;124m attribute \u001b[39m\u001b[38;5;132;01m{\u001b[39;00mname\u001b[38;5;132;01m}\u001b[39;00m\u001b[38;5;124m\"\u001b[39m)\n",
      "\u001b[0;31mAttributeError\u001b[0m: No librosa attribute key"
     ]
    }
   ],
   "source": [
    "import librosa\n",
    "import numpy as np\n",
    "\n",
    "def get_song_key(mp3_file):\n",
    "    # Load the audio file\n",
    "    y, sr = librosa.load(mp3_file)\n",
    "\n",
    "    # Estimate the global key\n",
    "    key, key_strength = librosa.key.global_key(y)\n",
    "\n",
    "    # Map the key index to key name\n",
    "    key_names = ['C', 'C#', 'D', 'D#', 'E', 'F', 'F#', 'G', 'G#', 'A', 'A#', 'B']\n",
    "\n",
    "    # Get the key name\n",
    "    key_name = key_names[key]\n",
    "\n",
    "    return key_name\n",
    "\n",
    "# Example usage\n",
    "mp3_file_path = \"/Users/zac/Downloads/Choo Lo.mp3\"\n",
    "song_key = get_song_key(mp3_file_path)\n",
    "print(\"Key of the song:\", song_key)\n"
   ]
  },
  {
   "cell_type": "code",
   "execution_count": 3,
   "metadata": {},
   "outputs": [],
   "source": [
    "import librosa as lb\n",
    "\n",
    "\n",
    "y , sr = lb.load(mp3_file_path)"
   ]
  },
  {
   "cell_type": "code",
   "execution_count": 5,
   "metadata": {},
   "outputs": [
    {
     "data": {
      "text/plain": [
       "22050"
      ]
     },
     "execution_count": 5,
     "metadata": {},
     "output_type": "execute_result"
    }
   ],
   "source": [
    "sr"
   ]
  },
  {
   "cell_type": "code",
   "execution_count": 8,
   "metadata": {},
   "outputs": [
    {
     "data": {
      "text/plain": [
       "array([143.5546875])"
      ]
     },
     "execution_count": 8,
     "metadata": {},
     "output_type": "execute_result"
    }
   ],
   "source": [
    "lb.feature.tempo(y=y, sr=sr)"
   ]
  },
  {
   "cell_type": "code",
   "execution_count": null,
   "metadata": {},
   "outputs": [],
   "source": [
    "\n",
    "from typing import Any\n",
    "from typing_extensions import Unpack\n",
    "from pydantic import BaseModel, ConfigDict\n",
    "\n",
    "class SongAnalysis(BaseModel):\n",
    "    def __init_subclass__(cls, **kwargs: *ConfigDict):\n",
    "        return super().__init_subclass__(**kwargs)\n",
    "    \n",
    "\n",
    "    \n",
    "\n",
    "\n",
    "    \n",
    "    def __call__(self, *args: Any, **kwds: Any) -> Any:\n",
    "        return super().__call__(*args, **kwds)\n"
   ]
  },
  {
   "cell_type": "code",
   "execution_count": null,
   "metadata": {},
   "outputs": [],
   "source": [
    "# https://github.com/jackmcarthur/musical-key-finder/blob/master/keyfinder.py"
   ]
  },
  {
   "cell_type": "code",
   "execution_count": 11,
   "metadata": {},
   "outputs": [],
   "source": [
    "import os\n",
    "import librosa\n",
    "import numpy as np\n",
    "import pandas as pd\n",
    "\n",
    "# Function to extract features from an audio file\n",
    "def extract_features(file_path):\n",
    "    try:\n",
    "        # Load audio file\n",
    "        y, sr = librosa.load(file_path)\n",
    "\n",
    "        # Extract features\n",
    "        tempo, beats = librosa.beat.beat_track(y=y, sr=sr)\n",
    "        chroma_stft = np.mean(librosa.feature.chroma_stft(y=y, sr=sr))\n",
    "        rmse = np.mean(librosa.feature.rms(y=y))\n",
    "        spectral_centroid = np.mean(librosa.feature.spectral_centroid(y=y, sr=sr))\n",
    "        spectral_bandwidth = np.mean(librosa.feature.spectral_bandwidth(y=y, sr=sr))\n",
    "        spectral_flatness = np.mean(librosa.feature.spectral_flatness(y=y))\n",
    "        mfccs = np.mean(librosa.feature.mfcc(y=y, sr=sr, n_mfcc=13), axis=1)\n",
    "\n",
    "        # Create dictionary of features\n",
    "        features = {\n",
    "            'tempo': tempo,\n",
    "            'chroma_stft': chroma_stft,\n",
    "            'rmse': rmse,\n",
    "            'spectral_centroid': spectral_centroid,\n",
    "            'spectral_bandwidth': spectral_bandwidth,\n",
    "            'spectral_flatness': spectral_flatness\n",
    "        }\n",
    "        for i, mfcc in enumerate(mfccs):\n",
    "            features[f'mfcc{i+1}'] = mfcc\n",
    "\n",
    "        return features\n",
    "\n",
    "    except Exception as e:\n",
    "        print(f\"Error processing {file_path}: {e}\")\n",
    "        return None\n",
    "\n",
    "# Function to analyze a directory of audio files and create a database\n",
    "def analyze_directory(directory):\n",
    "    # Create empty list to store features\n",
    "    all_features = []\n",
    "\n",
    "    # Iterate over files in the directory\n",
    "    for filename in os.listdir(directory):\n",
    "        if filename.endswith('.wav'):\n",
    "            file_path = os.path.join(directory, filename)\n",
    "            features = extract_features(file_path)\n",
    "            if features:\n",
    "                features['filename'] = filename\n",
    "                all_features.append(features)\n",
    "\n",
    "    # Convert list of dictionaries to DataFrame\n",
    "    df = pd.DataFrame(all_features)\n",
    "\n",
    "    # Save DataFrame to CSV file\n",
    "    df.to_csv('music_features.csv', index=False)\n",
    "\n",
    "# Example usage\n",
    "directory = '/Users/zac/Codes/Music_Project/GIT_HUB/Musis_Recommendation_Engine/exploration/song_analysis/'\n",
    "analyze_directory(directory)\n"
   ]
  },
  {
   "cell_type": "code",
   "execution_count": 13,
   "metadata": {},
   "outputs": [],
   "source": [
    "def calculate_danceability(y, sr):\n",
    "    # Compute the onset envelope\n",
    "    onset_env = librosa.onset.onset_strength(y=y, sr=sr)\n",
    "    \n",
    "    # Aggregate by mean\n",
    "    mean_onset_env = np.mean(onset_env)\n",
    "    \n",
    "    # Danceability is higher if the rhythm is strong and stable\n",
    "    return mean_onset_env\n",
    "\n",
    "\n",
    "def calculate_liveliness(y):\n",
    "    # Calculate spectral centroid variation\n",
    "    centroid_var = np.var(librosa.feature.spectral_centroid(y=y))\n",
    "    \n",
    "    # Higher variation indicates more liveliness\n",
    "    return centroid_var\n",
    "\n",
    "def calculate_acousticness(y, sr):\n",
    "    # Calculate spectral contrast\n",
    "    contrast = np.mean(librosa.feature.spectral_contrast(y=y, sr=sr))\n",
    "    \n",
    "    # Higher spectral contrast indicates less acousticness\n",
    "    return 1 - contrast\n",
    "\n",
    "\n",
    "def estimate_key(y, sr):\n",
    "    # Calculate the chromagram\n",
    "    chroma = librosa.feature.chroma_cens(y=y, sr=sr)\n",
    "    \n",
    "    # Find the most prominent key\n",
    "    key = np.argmax(np.mean(chroma, axis=1))\n",
    "    \n",
    "    return key\n"
   ]
  },
  {
   "cell_type": "code",
   "execution_count": 14,
   "metadata": {},
   "outputs": [
    {
     "data": {
      "text/plain": [
       "-22.98308975971634"
      ]
     },
     "execution_count": 14,
     "metadata": {},
     "output_type": "execute_result"
    }
   ],
   "source": [
    "calculate_acousticness(y ,sr)"
   ]
  },
  {
   "cell_type": "code",
   "execution_count": 15,
   "metadata": {},
   "outputs": [
    {
     "data": {
      "text/plain": [
       "1.104514"
      ]
     },
     "execution_count": 15,
     "metadata": {},
     "output_type": "execute_result"
    }
   ],
   "source": [
    "calculate_danceability(y,sr)"
   ]
  },
  {
   "cell_type": "code",
   "execution_count": 16,
   "metadata": {},
   "outputs": [
    {
     "data": {
      "text/plain": [
       "478552.3426545928"
      ]
     },
     "execution_count": 16,
     "metadata": {},
     "output_type": "execute_result"
    }
   ],
   "source": [
    "calculate_liveliness(y)"
   ]
  },
  {
   "cell_type": "code",
   "execution_count": 17,
   "metadata": {},
   "outputs": [
    {
     "data": {
      "text/plain": [
       "11"
      ]
     },
     "execution_count": 17,
     "metadata": {},
     "output_type": "execute_result"
    }
   ],
   "source": [
    "estimate_key(y, sr)"
   ]
  },
  {
   "cell_type": "code",
   "execution_count": 20,
   "metadata": {},
   "outputs": [],
   "source": [
    "def estimate_key(y, sr):\n",
    "    # Calculate the chromagram\n",
    "    chroma = librosa.feature.chroma_cens(y=y, sr=sr)\n",
    "    print(chroma)\n",
    "    \n",
    "    # Define key names\n",
    "    key_names = ['C', 'C#', 'D', 'D#', 'E', 'F', 'F#', 'G', 'G#', 'A', 'A#', 'B']\n",
    "    \n",
    "    # Find the most prominent key\n",
    "    key_index = np.argmax(np.mean(chroma, axis=1))\n",
    "    print(key_index)\n",
    "    \n",
    "    # Get the corresponding key name\n",
    "    key_name = key_names[key_index]\n",
    "    \n",
    "    return key_name\n"
   ]
  },
  {
   "cell_type": "code",
   "execution_count": 21,
   "metadata": {},
   "outputs": [
    {
     "name": "stdout",
     "output_type": "stream",
     "text": [
      "[[0.4035483  0.396904   0.3891428  ... 0.11983906 0.12707949 0.134336  ]\n",
      " [0.40562487 0.39775664 0.38871878 ... 0.         0.         0.        ]\n",
      " [0.31019384 0.3012065  0.29175636 ... 0.         0.         0.        ]\n",
      " ...\n",
      " [0.15925007 0.17378949 0.18834077 ... 0.         0.         0.        ]\n",
      " [0.24439164 0.25059277 0.2572321  ... 0.3777264  0.38432527 0.3907277 ]\n",
      " [0.25196087 0.25928444 0.2666341  ... 0.9133812  0.9104386  0.90738636]]\n",
      "11\n"
     ]
    },
    {
     "data": {
      "text/plain": [
       "'B'"
      ]
     },
     "execution_count": 21,
     "metadata": {},
     "output_type": "execute_result"
    }
   ],
   "source": [
    "estimate_key(y, sr)"
   ]
  },
  {
   "cell_type": "code",
   "execution_count": 22,
   "metadata": {},
   "outputs": [],
   "source": [
    "import numpy as np\n",
    "import matplotlib.pyplot as plt\n",
    "import IPython.display as ipd\n",
    "import librosa\n",
    "import librosa.display\n",
    "\n",
    "# class that uses the librosa library to analyze the key that an mp3 is in\n",
    "# arguments:\n",
    "#     waveform: an mp3 file loaded by librosa, ideally separated out from any percussive sources\n",
    "#     sr: sampling rate of the mp3, which can be obtained when the file is read with librosa\n",
    "#     tstart and tend: the range in seconds of the file to be analyzed; default to the beginning and end of file if not specified\n",
    "class Tonal_Fragment(object):\n",
    "    def __init__(self, waveform, sr, tstart=None, tend=None):\n",
    "        self.waveform = waveform\n",
    "        self.sr = sr\n",
    "        self.tstart = tstart\n",
    "        self.tend = tend\n",
    "        \n",
    "        if self.tstart is not None:\n",
    "            self.tstart = librosa.time_to_samples(self.tstart, sr=self.sr)\n",
    "        if self.tend is not None:\n",
    "            self.tend = librosa.time_to_samples(self.tend, sr=self.sr)\n",
    "        self.y_segment = self.waveform[self.tstart:self.tend]\n",
    "        self.chromograph = librosa.feature.chroma_cqt(y=self.y_segment, sr=self.sr, bins_per_octave=24)\n",
    "        \n",
    "        # chroma_vals is the amount of each pitch class present in this time interval\n",
    "        self.chroma_vals = []\n",
    "        for i in range(12):\n",
    "            self.chroma_vals.append(np.sum(self.chromograph[i]))\n",
    "        pitches = ['C','C#','D','D#','E','F','F#','G','G#','A','A#','B']\n",
    "        # dictionary relating pitch names to the associated intensity in the song\n",
    "        self.keyfreqs = {pitches[i]: self.chroma_vals[i] for i in range(12)} \n",
    "        \n",
    "        keys = [pitches[i] + ' major' for i in range(12)] + [pitches[i] + ' minor' for i in range(12)]\n",
    "\n",
    "        # use of the Krumhansl-Schmuckler key-finding algorithm, which compares the chroma\n",
    "        # data above to typical profiles of major and minor keys:\n",
    "        maj_profile = [6.35, 2.23, 3.48, 2.33, 4.38, 4.09, 2.52, 5.19, 2.39, 3.66, 2.29, 2.88]\n",
    "        min_profile = [6.33, 2.68, 3.52, 5.38, 2.60, 3.53, 2.54, 4.75, 3.98, 2.69, 3.34, 3.17]\n",
    "\n",
    "        # finds correlations between the amount of each pitch class in the time interval and the above profiles,\n",
    "        # starting on each of the 12 pitches. then creates dict of the musical keys (major/minor) to the correlation\n",
    "        self.min_key_corrs = []\n",
    "        self.maj_key_corrs = []\n",
    "        for i in range(12):\n",
    "            key_test = [self.keyfreqs.get(pitches[(i + m)%12]) for m in range(12)]\n",
    "            # correlation coefficients (strengths of correlation for each key)\n",
    "            self.maj_key_corrs.append(round(np.corrcoef(maj_profile, key_test)[1,0], 3))\n",
    "            self.min_key_corrs.append(round(np.corrcoef(min_profile, key_test)[1,0], 3))\n",
    "\n",
    "        # names of all major and minor keys\n",
    "        self.key_dict = {**{keys[i]: self.maj_key_corrs[i] for i in range(12)}, \n",
    "                         **{keys[i+12]: self.min_key_corrs[i] for i in range(12)}}\n",
    "        \n",
    "        # this attribute represents the key determined by the algorithm\n",
    "        self.key = max(self.key_dict, key=self.key_dict.get)\n",
    "        self.bestcorr = max(self.key_dict.values())\n",
    "        \n",
    "        # this attribute represents the second-best key determined by the algorithm,\n",
    "        # if the correlation is close to that of the actual key determined\n",
    "        self.altkey = None\n",
    "        self.altbestcorr = None\n",
    "\n",
    "        for key, corr in self.key_dict.items():\n",
    "            if corr > self.bestcorr*0.9 and corr != self.bestcorr:\n",
    "                self.altkey = key\n",
    "                self.altbestcorr = corr\n",
    "                \n",
    "    # prints the relative prominence of each pitch class            \n",
    "    def print_chroma(self):\n",
    "        self.chroma_max = max(self.chroma_vals)\n",
    "        for key, chrom in self.keyfreqs.items():\n",
    "            print(key, '\\t', f'{chrom/self.chroma_max:5.3f}')\n",
    "                \n",
    "    # prints the correlation coefficients associated with each major/minor key\n",
    "    def corr_table(self):\n",
    "        for key, corr in self.key_dict.items():\n",
    "            print(key, '\\t', f'{corr:6.3f}')\n",
    "    \n",
    "    # printout of the key determined by the algorithm; if another key is close, that key is mentioned\n",
    "    def print_key(self):\n",
    "        print(\"likely key: \", max(self.key_dict, key=self.key_dict.get), \", correlation: \", self.bestcorr, sep='')\n",
    "        if self.altkey is not None:\n",
    "                print(\"also possible: \", self.altkey, \", correlation: \", self.altbestcorr, sep='')\n",
    "    \n",
    "    # prints a chromagram of the file, showing the intensity of each pitch class over time\n",
    "    def chromagram(self, title=None):\n",
    "        C = librosa.feature.chroma_cqt(y=self.waveform, sr=sr, bins_per_octave=24)\n",
    "        plt.figure(figsize=(12,4))\n",
    "        librosa.display.specshow(C, sr=sr, x_axis='time', y_axis='chroma', vmin=0, vmax=1)\n",
    "        if title is None:\n",
    "            plt.title('Chromagram')\n",
    "        else:\n",
    "            plt.title(title)\n",
    "        plt.colorbar()\n",
    "        plt.tight_layout()\n",
    "        plt.show()"
   ]
  },
  {
   "cell_type": "code",
   "execution_count": 23,
   "metadata": {},
   "outputs": [],
   "source": [
    "hey = Tonal_Fragment(waveform=y, sr = sr)"
   ]
  },
  {
   "cell_type": "code",
   "execution_count": 25,
   "metadata": {},
   "outputs": [
    {
     "name": "stdout",
     "output_type": "stream",
     "text": [
      "likely key: B major, correlation: 0.724\n",
      "also possible: E major, correlation: 0.689\n"
     ]
    }
   ],
   "source": [
    "hey.print_key()"
   ]
  },
  {
   "cell_type": "code",
   "execution_count": 26,
   "metadata": {},
   "outputs": [
    {
     "name": "stdout",
     "output_type": "stream",
     "text": [
      "C \t 0.512\n",
      "C# \t 0.434\n",
      "D \t 0.350\n",
      "D# \t 0.403\n",
      "E \t 0.659\n",
      "F \t 0.432\n",
      "F# \t 0.575\n",
      "G \t 0.421\n",
      "G# \t 0.441\n",
      "A \t 0.563\n",
      "A# \t 0.434\n",
      "B \t 1.000\n"
     ]
    }
   ],
   "source": [
    "hey.print_chroma()"
   ]
  },
  {
   "cell_type": "code",
   "execution_count": 27,
   "metadata": {},
   "outputs": [],
   "source": [
    "y_harm = librosa.effects.harmonic(y)"
   ]
  },
  {
   "cell_type": "code",
   "execution_count": 28,
   "metadata": {},
   "outputs": [],
   "source": [
    "new = Tonal_Fragment(y_harm, sr)"
   ]
  },
  {
   "cell_type": "code",
   "execution_count": 29,
   "metadata": {},
   "outputs": [
    {
     "name": "stdout",
     "output_type": "stream",
     "text": [
      "likely key: B major, correlation: 0.683\n",
      "also possible: E major, correlation: 0.646\n"
     ]
    }
   ],
   "source": [
    "new.print_key()"
   ]
  },
  {
   "cell_type": "code",
   "execution_count": 12,
   "metadata": {},
   "outputs": [],
   "source": [
    "\n",
    "gpt_list = \"\"\"1. Chill Vibes: relaxation : stress\n",
    "2. Uplifting Anthems: happiness : sadness\n",
    "3. Melancholic Melodies: sadness : melancholy\n",
    "4. Power Ballads: empowerment : low self-esteem\n",
    "5. Jazzy Nights: nostalgia : loneliness\n",
    "6. Dancefloor Hits: excitement : boredom\n",
    "7. Rainy Day Tunes: introspection : gloominess\n",
    "8. Acoustic Serenade: comfort : heartache\n",
    "9. Inspirational Beats: motivation : discouragement\n",
    "10. Indie Gems: uniqueness : feeling unnoticed\n",
    "11. Feel-Good Favorites: positivity : negativity\n",
    "12. Summer Breeze: warmth : coldness\n",
    "13. Heartfelt Ballads: emotion : numbness\n",
    "14. Road Trip Jams: adventure : monotony\n",
    "15. Soulful Grooves: depth : shallowness\n",
    "16. Electro Pop Fun: energy : lethargy\n",
    "17. Rhythmic Rapture: movement : stillness\n",
    "18. Healing Harmonies: healing : pain\n",
    "19. Mellow Moods: calmness : agitation\n",
    "20. Reggae Relaxation: tranquility : restlessness\n",
    "21. Classic Rock Revival: nostalgia : disconnection\n",
    "22. Folk Feelings: authenticity : falseness\n",
    "23. Romantic Rhythms: love : heartbreak\n",
    "24. Hip Hop Therapy: empowerment : frustration\n",
    "25. Ambient Escapes: peace : chaos\n",
    "26. Bluesy Resonance: introspection : despair\n",
    "27. Country Comfort: familiarity : estrangement\n",
    "28. Pop Perfection: catchiness : indifference\n",
    "29. Smooth Jazz Soiree: sophistication : rawness\n",
    "30. Motivational Mix: determination : doubt\n",
    "31. Electronic Dreams: imagination : stagnation\n",
    "32. Lyrical Exploration: storytelling : emptiness\n",
    "33. Latin Fiesta: celebration : sorrow\n",
    "34. Feel-Good Funk: groove : stiffness\n",
    "35. Piano Ponderings: reflection : distraction\n",
    "36. Worldly Wonders: diversity : monotony\n",
    "37. Ambient Bliss: serenity : restlessness\n",
    "38. Soulful Reflections: introspection : confusion\n",
    "39. Dreamy Delights: whimsy : seriousness\n",
    "40. Rock Revival: rebellion : conformity\n",
    "41. Gospel Glory: faith : doubt\n",
    "42. R&B Rejuvenation: sensuality : inhibition\n",
    "43. Jazz Journey: improvisation : rigidity\n",
    "44. Indie Introspection: authenticity : superficiality\n",
    "45. Classical Calm: elegance : clumsiness\n",
    "46. Electronic Enchantment: euphoria : depression\n",
    "47. Folklore Feels: storytelling : detachment\n",
    "48. Nostalgic Nights: reminiscence : detachment\n",
    "49. Eclectic Excursions: diversity : sameness\n",
    "50. Harmonic Hope: optimism : pessimism\n",
    "51. Laid-back Lounge: ease : tension\n",
    "52. Melodic Memories: nostalgia : forgetfulness\n",
    "53. Sentimental Serenade: sentimentality : apathy\n",
    "54. Symphony of Serenity: tranquility : agitation\n",
    "55. Acoustic Affection: intimacy : distance\n",
    "56. Disco Fever: joy : apathy\n",
    "57. Alternative Avenue: individuality : conformity\n",
    "58. Blissful Beats: euphoria : despondency\n",
    "59. Coffeehouse Crooners: intimacy : loneliness\n",
    "60. Ethereal Echoes: otherworldliness : mundanity\n",
    "61. Groovy Goodness: rhythm : discord\n",
    "62. Harmonious Heights: unity : division\n",
    "63. Vibrant Voices: expression : repression\n",
    "64. Retro Rewind: nostalgia : detachment\n",
    "65. Sentimental Sojourn: sentimentality : indifference\n",
    "66. Ambient Adventure: exploration : stagnation\n",
    "67. Ballad Bouquet: emotion : numbness\n",
    "68. Dynamic Dreamscape: imagination : reality\n",
    "69. Enchanted Emotions: wonder : skepticism\n",
    "70. Jazzed-Up Jams: improvisation : predictability\n",
    "71. Lively Landscapes: energy : lethargy\n",
    "72. Poetic Portraits: lyricism : literalism\n",
    "73. Psychedelic Symphony: exploration : conventionality\n",
    "74. Radiant Rhythms: vibrancy : dullness\n",
    "75. Sensational Soundscape: sensation : numbness\n",
    "76. Serene Sonnets: tranquility : turmoil\n",
    "77. Spiritual Solace: connection : isolation\n",
    "78. Sultry Sensations: sensuality : inhibition\n",
    "79. Tender Tunes: gentleness : harshness\n",
    "80. Tranquil Trails: peace : unrest\n",
    "81. Upbeat Utopia: positivity : negativity\n",
    "82. Whimsical Wanderlust: imagination : reality\n",
    "83. Zen Zone: mindfulness : distraction\n",
    "84. Ambient Atmosphere: serenity : chaos\n",
    "85. Ballroom Bliss: elegance : awkwardness\n",
    "86. Cosmic Connections: universality : individualism\n",
    "87. Dreamy Disposition: whimsy : practicality\n",
    "88. Groove Garden: rhythm : dissonance\n",
    "89. Harmony Haven: unity : discord\n",
    "90. Jazzy Junction: improvisation : rigidity\n",
    "91. Luminescent Lullabies: brightness : darkness\n",
    "92. Melodic Meadows: tranquility : turbulence\n",
    "93. Peaceful Paradise: serenity : unrest\n",
    "94. Rhythmic Reverie: movement : stillness\n",
    "95. Sonic Sanctuary: refuge : exposure\n",
    "96. Tranquil Tempos: calmness : agitation\n",
    "97. Velvet Voices: intimacy : distance\n",
    "98. Whispering Winds: softness : harshness\n",
    "99. Zenith Zone: elevation : stagnation\n",
    "100. Ethereal Embrace: otherworldliness : mundanity\"\"\"\n",
    "\n",
    "search_terms = gpt_list.split(\"\\n\")\n",
    "final_list = []\n",
    "\n",
    "for terms in search_terms:\n",
    "    final = terms.split(\".\")[-1]\n",
    "    final_list.append(final.strip())\n"
   ]
  },
  {
   "cell_type": "code",
   "execution_count": 15,
   "metadata": {},
   "outputs": [],
   "source": []
  },
  {
   "cell_type": "code",
   "execution_count": 16,
   "metadata": {},
   "outputs": [
    {
     "data": {
      "text/plain": [
       "['Chill Vibes: relaxation : stress',\n",
       " 'Uplifting Anthems: happiness : sadness',\n",
       " 'Melancholic Melodies: sadness : melancholy',\n",
       " 'Power Ballads: empowerment : low self-esteem',\n",
       " 'Jazzy Nights: nostalgia : loneliness',\n",
       " 'Dancefloor Hits: excitement : boredom',\n",
       " 'Rainy Day Tunes: introspection : gloominess',\n",
       " 'Acoustic Serenade: comfort : heartache',\n",
       " 'Inspirational Beats: motivation : discouragement',\n",
       " 'Indie Gems: uniqueness : feeling unnoticed',\n",
       " 'Feel-Good Favorites: positivity : negativity',\n",
       " 'Summer Breeze: warmth : coldness',\n",
       " 'Heartfelt Ballads: emotion : numbness',\n",
       " 'Road Trip Jams: adventure : monotony',\n",
       " 'Soulful Grooves: depth : shallowness',\n",
       " 'Electro Pop Fun: energy : lethargy',\n",
       " 'Rhythmic Rapture: movement : stillness',\n",
       " 'Healing Harmonies: healing : pain',\n",
       " 'Mellow Moods: calmness : agitation',\n",
       " 'Reggae Relaxation: tranquility : restlessness',\n",
       " 'Classic Rock Revival: nostalgia : disconnection',\n",
       " 'Folk Feelings: authenticity : falseness',\n",
       " 'Romantic Rhythms: love : heartbreak',\n",
       " 'Hip Hop Therapy: empowerment : frustration',\n",
       " 'Ambient Escapes: peace : chaos',\n",
       " 'Bluesy Resonance: introspection : despair',\n",
       " 'Country Comfort: familiarity : estrangement',\n",
       " 'Pop Perfection: catchiness : indifference',\n",
       " 'Smooth Jazz Soiree: sophistication : rawness',\n",
       " 'Motivational Mix: determination : doubt',\n",
       " 'Electronic Dreams: imagination : stagnation',\n",
       " 'Lyrical Exploration: storytelling : emptiness',\n",
       " 'Latin Fiesta: celebration : sorrow',\n",
       " 'Feel-Good Funk: groove : stiffness',\n",
       " 'Piano Ponderings: reflection : distraction',\n",
       " 'Worldly Wonders: diversity : monotony',\n",
       " 'Ambient Bliss: serenity : restlessness',\n",
       " 'Soulful Reflections: introspection : confusion',\n",
       " 'Dreamy Delights: whimsy : seriousness',\n",
       " 'Rock Revival: rebellion : conformity',\n",
       " 'Gospel Glory: faith : doubt',\n",
       " 'R&B Rejuvenation: sensuality : inhibition',\n",
       " 'Jazz Journey: improvisation : rigidity',\n",
       " 'Indie Introspection: authenticity : superficiality',\n",
       " 'Classical Calm: elegance : clumsiness',\n",
       " 'Electronic Enchantment: euphoria : depression',\n",
       " 'Folklore Feels: storytelling : detachment',\n",
       " 'Nostalgic Nights: reminiscence : detachment',\n",
       " 'Eclectic Excursions: diversity : sameness',\n",
       " 'Harmonic Hope: optimism : pessimism',\n",
       " 'Laid-back Lounge: ease : tension',\n",
       " 'Melodic Memories: nostalgia : forgetfulness',\n",
       " 'Sentimental Serenade: sentimentality : apathy',\n",
       " 'Symphony of Serenity: tranquility : agitation',\n",
       " 'Acoustic Affection: intimacy : distance',\n",
       " 'Disco Fever: joy : apathy',\n",
       " 'Alternative Avenue: individuality : conformity',\n",
       " 'Blissful Beats: euphoria : despondency',\n",
       " 'Coffeehouse Crooners: intimacy : loneliness',\n",
       " 'Ethereal Echoes: otherworldliness : mundanity',\n",
       " 'Groovy Goodness: rhythm : discord',\n",
       " 'Harmonious Heights: unity : division',\n",
       " 'Vibrant Voices: expression : repression',\n",
       " 'Retro Rewind: nostalgia : detachment',\n",
       " 'Sentimental Sojourn: sentimentality : indifference',\n",
       " 'Ambient Adventure: exploration : stagnation',\n",
       " 'Ballad Bouquet: emotion : numbness',\n",
       " 'Dynamic Dreamscape: imagination : reality',\n",
       " 'Enchanted Emotions: wonder : skepticism',\n",
       " 'Jazzed-Up Jams: improvisation : predictability',\n",
       " 'Lively Landscapes: energy : lethargy',\n",
       " 'Poetic Portraits: lyricism : literalism',\n",
       " 'Psychedelic Symphony: exploration : conventionality',\n",
       " 'Radiant Rhythms: vibrancy : dullness',\n",
       " 'Sensational Soundscape: sensation : numbness',\n",
       " 'Serene Sonnets: tranquility : turmoil',\n",
       " 'Spiritual Solace: connection : isolation',\n",
       " 'Sultry Sensations: sensuality : inhibition',\n",
       " 'Tender Tunes: gentleness : harshness',\n",
       " 'Tranquil Trails: peace : unrest',\n",
       " 'Upbeat Utopia: positivity : negativity',\n",
       " 'Whimsical Wanderlust: imagination : reality',\n",
       " 'Zen Zone: mindfulness : distraction',\n",
       " 'Ambient Atmosphere: serenity : chaos',\n",
       " 'Ballroom Bliss: elegance : awkwardness',\n",
       " 'Cosmic Connections: universality : individualism',\n",
       " 'Dreamy Disposition: whimsy : practicality',\n",
       " 'Groove Garden: rhythm : dissonance',\n",
       " 'Harmony Haven: unity : discord',\n",
       " 'Jazzy Junction: improvisation : rigidity',\n",
       " 'Luminescent Lullabies: brightness : darkness',\n",
       " 'Melodic Meadows: tranquility : turbulence',\n",
       " 'Peaceful Paradise: serenity : unrest',\n",
       " 'Rhythmic Reverie: movement : stillness',\n",
       " 'Sonic Sanctuary: refuge : exposure',\n",
       " 'Tranquil Tempos: calmness : agitation',\n",
       " 'Velvet Voices: intimacy : distance',\n",
       " 'Whispering Winds: softness : harshness',\n",
       " 'Zenith Zone: elevation : stagnation',\n",
       " 'Ethereal Embrace: otherworldliness : mundanity']"
      ]
     },
     "execution_count": 16,
     "metadata": {},
     "output_type": "execute_result"
    }
   ],
   "source": []
  },
  {
   "cell_type": "code",
   "execution_count": null,
   "metadata": {},
   "outputs": [],
   "source": []
  }
 ],
 "metadata": {
  "kernelspec": {
   "display_name": "model_music",
   "language": "python",
   "name": "python3"
  },
  "language_info": {
   "codemirror_mode": {
    "name": "ipython",
    "version": 3
   },
   "file_extension": ".py",
   "mimetype": "text/x-python",
   "name": "python",
   "nbconvert_exporter": "python",
   "pygments_lexer": "ipython3",
   "version": "3.11.5"
  }
 },
 "nbformat": 4,
 "nbformat_minor": 2
}
