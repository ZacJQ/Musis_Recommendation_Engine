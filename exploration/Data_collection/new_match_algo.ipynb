{
 "cells": [
  {
   "cell_type": "markdown",
   "metadata": {},
   "source": [
    "# Method 1"
   ]
  },
  {
   "cell_type": "code",
   "execution_count": 3,
   "metadata": {},
   "outputs": [],
   "source": [
    "import pandas as pd\n",
    "from fuzzywuzzy import process\n",
    "import os\n",
    "\n",
    "base_dir = \"/Users/zac/Codes/Music_Project/GIT_HUB/Musis_Recommendation_Engine/data/kaggle_dataset/combined.csv\"\n",
    "\n",
    "# Load the CSV files\n",
    "sheet1 = pd.read_csv('/Users/zac/Codes/Music_Project/GIT_HUB/Musis_Recommendation_Engine/data/kaggle_dataset/combined.csv')\n",
    "sheet2 = pd.read_csv('/Users/zac/Codes/Music_Project/GIT_HUB/Musis_Recommendation_Engine/data/processed_data/crowd_sourced_data/MusicMood_Survey_Final_new.csv', encoding='ISO-8859-1')\n",
    "\n",
    "sheet2 = sheet2.rename(columns={\"ARTIST\":\"artist_name\", \"NAME\":\"track_name\", \"MOOD\":\"mood\"})\n"
   ]
  },
  {
   "cell_type": "code",
   "execution_count": null,
   "metadata": {},
   "outputs": [],
   "source": [
    "\n",
    "# Create a dictionary for quick lookups\n",
    "mood_dict = {}\n",
    "for _, row in sheet2.iterrows():\n",
    "    key = (row['artist_name'].strip().lower(), row['track_name'].strip().lower())\n",
    "    mood_dict[key] = row['mood']\n",
    "\n",
    "# Function to find the best match for track_name and artist_name\n",
    "def find_mood(artist_name, track_name, mood_dict):\n",
    "    key = (artist_name.strip().lower(), track_name.strip().lower())\n",
    "    if key in mood_dict:\n",
    "        return mood_dict[key]\n",
    "    \n",
    "    # If exact match not found, perform fuzzy matching\n",
    "    keys = list(mood_dict.keys())\n",
    "    best_match_artist, artist_score = process.extractOne(artist_name, [k[0] for k in keys])\n",
    "    best_match_track, track_score = process.extractOne(track_name, [k[1] for k in keys])\n",
    "    \n",
    "    if artist_score > 80 and track_score > 80:  # Adjust threshold as needed\n",
    "        for k in keys:\n",
    "            if k[0] == best_match_artist and k[1] == best_match_track:\n",
    "                return mood_dict[k]\n",
    "    \n",
    "    return None\n",
    "\n",
    "# Add the mood column to sheet1\n",
    "sheet1['mood'] = sheet1.apply(lambda row: find_mood(row['artist_name'], row['track_name'], mood_dict), axis=1)\n",
    "\n",
    "# Save the result to a new CSV file\n",
    "sheet1.to_csv('sheet1_with_mood.csv', index=False)\n"
   ]
  },
  {
   "cell_type": "code",
   "execution_count": null,
   "metadata": {},
   "outputs": [],
   "source": [
    "import pandas as pd\n",
    "from fuzzywuzzy import fuzz, process\n",
    "from tqdm import tqdm\n",
    "from multiprocessing import Pool, cpu_count\n",
    "import numpy as np\n",
    "\n",
    "# # Load the sheets\n",
    "# sheet1 = pd.read_csv('sheet1.csv')\n",
    "# sheet2 = pd.read_csv('sheet2.csv')\n",
    "\n",
    "# Function to match songs with fuzzy matching\n",
    "def match_mood(row):\n",
    "    track_name = row['track_name']\n",
    "    artist_name = row['artist_name']\n",
    "    query = f\"{track_name} {artist_name}\"\n",
    "    choices = sheet2.apply(lambda x: f\"{x['track_name']} {x['artist_name']}\", axis=1).tolist()\n",
    "    best_match, score = process.extractOne(query, choices, scorer=fuzz.token_sort_ratio)\n",
    "    if score >= 80:  # Adjust the threshold as needed\n",
    "        matched_row = sheet2.iloc[choices.index(best_match)]\n",
    "        return matched_row['mood']\n",
    "    return None\n",
    "\n",
    "# Apply fuzzy matching with multiprocessing\n",
    "def parallel_apply(df, func, num_processes=cpu_count()):\n",
    "    df_split = np.array_split(df, num_processes)\n",
    "    pool = Pool(num_processes)\n",
    "    results = pool.map(func, df_split)\n",
    "    pool.close()\n",
    "    pool.join()\n",
    "    return pd.concat(results)\n",
    "\n",
    "# Function to apply fuzzy matching with progress bar\n",
    "def apply_fuzzy_matching(df):\n",
    "    tqdm.pandas()\n",
    "    df['mood'] = df.progress_apply(match_mood, axis=1)\n",
    "    return df\n",
    "\n",
    "# Apply fuzzy matching to sheet1\n",
    "sheet1 = parallel_apply(sheet1, apply_fuzzy_matching)\n",
    "\n",
    "# Save the result to a new CSV file\n",
    "sheet1.to_csv('sheet1_with_mood_parranew.csv', index=False)\n"
   ]
  },
  {
   "cell_type": "code",
   "execution_count": 6,
   "metadata": {},
   "outputs": [
    {
     "data": {
      "application/vnd.jupyter.widget-view+json": {
       "model_id": "13ef3a24d7404a3890f8491069cb1b27",
       "version_major": 2,
       "version_minor": 0
      },
      "text/plain": [
       "Matching moods:   0%|          | 0/1331673 [00:00<?, ?it/s]"
      ]
     },
     "metadata": {},
     "output_type": "display_data"
    },
    {
     "name": "stderr",
     "output_type": "stream",
     "text": [
      "WARNING:root:Applied processor reduces input query to empty string, all comparisons will have score 0. [Query: '░▓░▓░▓░▓░▓░▓░▓░▓░▓░▓░▓░▓░▓ △▃△▓']\n",
      "WARNING:root:Applied processor reduces input query to empty string, all comparisons will have score 0. [Query: '؞ৢ؞ؖ؞ৢ؞ؖ؞ৢ؞ؖ؞ৢ؞ؖ؞ৢ؞ؖ؞ৢ؞ؖ؞ৢ؞ؖ؞ৢ؞ؖ؞ৢ؞ؖ؞ৢ؞ؖ؞ৢ؞ؖ؞ৢ؞ؖ؞ৢ؞ؖ △▃△▓']\n"
     ]
    }
   ],
   "source": [
    "import pandas as pd\n",
    "from fuzzywuzzy import fuzz, process\n",
    "from tqdm.notebook import tqdm\n",
    "\n",
    "# # Load the CSV files\n",
    "# sheet1 = pd.read_csv('sheet1.csv')\n",
    "# sheet2 = pd.read_csv('sheet2.csv')\n",
    "\n",
    "# Cache the choices for efficiency\n",
    "def get_choices(df):\n",
    "    return df.apply(lambda x: f\"{x['track_name']} {x['artist_name']}\", axis=1).tolist()\n",
    "\n",
    "choices = get_choices(sheet2)\n",
    "\n",
    "# Function to match songs with fuzzy matching considering both track name and artist name\n",
    "def get_best_match(row, choices):\n",
    "    query = f\"{row['track_name']} {row['artist_name']}\"\n",
    "    best_match, score = process.extractOne(query, choices, scorer=fuzz.token_sort_ratio)\n",
    "    if score >= 80:  # Adjust the threshold as needed\n",
    "        return best_match\n",
    "    return None\n",
    "\n",
    "# Add a new column for mood\n",
    "sheet1['mood'] = None\n",
    "\n",
    "# Perform fuzzy matching with a progress bar\n",
    "for idx, row in tqdm(sheet1.iterrows(), total=sheet1.shape[0], desc=\"Matching moods\"):\n",
    "    best_match = get_best_match(row, choices)\n",
    "    if best_match:\n",
    "        matched_row = sheet2.loc[choices.index(best_match)]\n",
    "        sheet1.at[idx, 'mood'] = matched_row['mood']\n",
    "\n",
    "# Save the result to a new CSV file\n",
    "sheet1.to_csv('sheet1_with_mood.csv', index=False)\n"
   ]
  },
  {
   "cell_type": "code",
   "execution_count": null,
   "metadata": {},
   "outputs": [],
   "source": []
  }
 ],
 "metadata": {
  "kernelspec": {
   "display_name": "model_music",
   "language": "python",
   "name": "python3"
  },
  "language_info": {
   "codemirror_mode": {
    "name": "ipython",
    "version": 3
   },
   "file_extension": ".py",
   "mimetype": "text/x-python",
   "name": "python",
   "nbconvert_exporter": "python",
   "pygments_lexer": "ipython3",
   "version": "3.11.5"
  }
 },
 "nbformat": 4,
 "nbformat_minor": 2
}
