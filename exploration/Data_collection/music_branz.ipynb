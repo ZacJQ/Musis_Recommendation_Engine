{
 "cells": [
  {
   "cell_type": "code",
   "execution_count": null,
   "metadata": {},
   "outputs": [],
   "source": [
    "# import music_brainz_api\n",
    "import musicbrainzngs as mb"
   ]
  },
  {
   "cell_type": "code",
   "execution_count": null,
   "metadata": {},
   "outputs": [],
   "source": [
    "user_name = \"Votik\"\n",
    "password = \"Nd5XxB9jZ4KLHZ!\"\n",
    "limit_rate = 1\n",
    "token = \"YJqVwTEvYy5yDSvxlb7HsKpgSpBnHgxmOnaK19Sx\"\n"
   ]
  },
  {
   "cell_type": "code",
   "execution_count": null,
   "metadata": {},
   "outputs": [],
   "source": [
    "mb.auth(u=user_name, p=password)"
   ]
  },
  {
   "cell_type": "code",
   "execution_count": null,
   "metadata": {},
   "outputs": [],
   "source": [
    "mb.set_rate_limit(limit_or_interval=limit_rate, new_requests=1)\n",
    "mb.set_format(fmt=\"xml\")"
   ]
  },
  {
   "cell_type": "code",
   "execution_count": null,
   "metadata": {},
   "outputs": [],
   "source": [
    "mb.set_useragent(app=\"college_project\" , version= \"0.0\" , contact=user_name)"
   ]
  },
  {
   "cell_type": "code",
   "execution_count": null,
   "metadata": {},
   "outputs": [],
   "source": [
    "result = mb.search_artists(artist=\"linkin park\")\n",
    "# for artist in result['artist-list']:\n",
    "#     print(u\"{id}: {name}\".format(id=artist['id'], name=artist[\"name\"]))"
   ]
  },
  {
   "cell_type": "code",
   "execution_count": null,
   "metadata": {},
   "outputs": [],
   "source": [
    "result"
   ]
  },
  {
   "cell_type": "code",
   "execution_count": null,
   "metadata": {},
   "outputs": [],
   "source": [
    "mb.search_releases(query=\"In the end\", artistname=\"Linkin park\")"
   ]
  },
  {
   "cell_type": "code",
   "execution_count": null,
   "metadata": {},
   "outputs": [],
   "source": [
    "mb.search_recordings()"
   ]
  },
  {
   "cell_type": "code",
   "execution_count": null,
   "metadata": {},
   "outputs": [],
   "source": [
    "mb.get_release_by_id(id=\"f0380af9-2315-4dd5-a11a-78c8f3d408b6\")"
   ]
  },
  {
   "cell_type": "code",
   "execution_count": null,
   "metadata": {},
   "outputs": [],
   "source": [
    "mb.get_instrument_by_id(id='1eae4668-76ef-424b-9142-ad0fe3392665')"
   ]
  },
  {
   "cell_type": "code",
   "execution_count": null,
   "metadata": {},
   "outputs": [],
   "source": [
    "import musicbrainzngs\n",
    "\n",
    "# # Set your MusicBrainz API token\n",
    "# musicbrainzngs.set_useragent(\"MyApp\", \"1.0\", \"your_email@example.com\")\n",
    "\n",
    "def get_instruments_in_song(song_title, artist_name):\n",
    "    # Search for the song\n",
    "    search_results = musicbrainzngs.search_recordings(query=f'recording:\"{song_title}\" AND artist:\"{artist_name}\"')\n",
    "    print(search_results)\n",
    "    # Check if search returned any results\n",
    "    if 'recording-list' in search_results:\n",
    "        recordings = search_results['recording-list']\n",
    "        print(recordings)\n",
    "        if len(recordings) > 0:\n",
    "            recording_mbid = recordings[0]['id']  # Assuming we take the first recording\n",
    "            # Get recording information including instruments\n",
    "            recording_info = musicbrainzngs.get_recording_by_id(recording_mbid, )# includes=['artist-credits', 'instrument'])\n",
    "            if 'recording' in recording_info:\n",
    "                recording = recording_info['recording']\n",
    "                # Extract instruments used\n",
    "                if 'instrument-list' in recording:\n",
    "                    return recording['instrument-list']\n",
    "    \n",
    "    return None\n",
    "\n",
    "# Example usage\n",
    "song_title = \"Enter Sandman\"\n",
    "artist_name = \"Metallica\"\n",
    "instruments = get_instruments_in_song(song_title, artist_name)\n",
    "if instruments:\n",
    "    print(\"Instruments in the song:\")\n",
    "    for instrument in instruments:\n",
    "        print(instrument['name'])\n",
    "else:\n",
    "    print(\"Song not found or no instrument information available.\")\n"
   ]
  },
  {
   "cell_type": "code",
   "execution_count": null,
   "metadata": {},
   "outputs": [],
   "source": [
    "import requests\n",
    "\n",
    "temp = requests.get(url=\"https://listenbrainz.org/player/?recording_mbids=88f6d5f0-34af-484c-99e4-6934cbfc2a13\")"
   ]
  },
  {
   "cell_type": "code",
   "execution_count": null,
   "metadata": {},
   "outputs": [],
   "source": [
    "temp"
   ]
  },
  {
   "cell_type": "code",
   "execution_count": null,
   "metadata": {},
   "outputs": [],
   "source": [
    "mb.get_instrument_by_id(id='1f26224d-4ad0-456b-9316-f184de0b68bf')"
   ]
  },
  {
   "cell_type": "code",
   "execution_count": null,
   "metadata": {},
   "outputs": [],
   "source": [
    "import musicbrainzngs\n",
    "\n",
    "# # Set your MusicBrainz API token\n",
    "# musicbrainzngs.set_useragent(\"MyCoolApp\", \"0.1\", \"your_email@example.com\")\n",
    "\n",
    "# Search for the recording using the track name and artist\n",
    "results = musicbrainzngs.search_recordings(artist=\"Linkin Park\", recording=\"In the End\")\n",
    "\n",
    "# Extract recording MBID from the search results\n",
    "recording_mbid = results['recording-list'][0]['id']\n",
    "\n",
    "# Get details about the recording including the list of instruments\n",
    "recording_details = musicbrainzngs.get_recording_by_id(recording_mbid, includes=[\"instrument\"])\n",
    "\n",
    "# Extract instrument information from the recording details\n",
    "instruments_used = []\n",
    "if 'instrument-list' in recording_details['recording']:\n",
    "    instruments_used = [instrument['type'] for instrument in recording_details['recording']['instrument-list']]\n",
    "\n",
    "print(\"Instruments used in the recording:\", instruments_used)\n"
   ]
  },
  {
   "cell_type": "code",
   "execution_count": null,
   "metadata": {},
   "outputs": [],
   "source": [
    "import json\n",
    "\n",
    "with open(\"/Users/zac/Downloads/instrument/mbdump/instrument\", \"r\") as file:\n",
    "    data = json.load(file)"
   ]
  },
  {
   "cell_type": "code",
   "execution_count": 52,
   "metadata": {},
   "outputs": [],
   "source": [
    "song_title = \"Bad Habits\"\n",
    "artist_name = \"Ed Sheeran\"\n",
    "\n",
    "search_results = musicbrainzngs.search_recordings(query=f'recording:\"{song_title}\" AND artist:\"{artist_name}\" AND type:\"Album\"')"
   ]
  },
  {
   "cell_type": "code",
   "execution_count": 53,
   "metadata": {},
   "outputs": [
    {
     "data": {
      "text/plain": [
       "{'id': '1f26224d-4ad0-456b-9316-f184de0b68bf',\n",
       " 'ext:score': '100',\n",
       " 'title': 'Bad Habits',\n",
       " 'length': '231000',\n",
       " 'disambiguation': 'Dolby Atmos mix',\n",
       " 'artist-credit': [{'name': 'Ed Sheeran',\n",
       "   'artist': {'id': 'b8a7c51f-362c-4dcb-a259-bc6e0095f0a6',\n",
       "    'name': 'Ed Sheeran',\n",
       "    'sort-name': 'Sheeran, Ed',\n",
       "    'disambiguation': 'UK singer-songwriter',\n",
       "    'alias-list': [{'sort-name': 'Sheeran, Edward Christopher',\n",
       "      'type': 'Legal name',\n",
       "      'alias': 'Edward Christopher Sheeran'},\n",
       "     {'sort-name': '에드 시런', 'type': 'Search hint', 'alias': '에드 시런'}]}}],\n",
       " 'release-list': [{'id': '64ae938c-6af1-4919-8341-458eb1866474',\n",
       "   'title': '=',\n",
       "   'status': 'Official',\n",
       "   'disambiguation': 'Dolby Atmos mix',\n",
       "   'artist-credit': [{'name': 'Ed Sheeran',\n",
       "     'artist': {'id': 'b8a7c51f-362c-4dcb-a259-bc6e0095f0a6',\n",
       "      'name': 'Ed Sheeran',\n",
       "      'sort-name': 'Sheeran, Ed',\n",
       "      'disambiguation': 'UK singer-songwriter'}}],\n",
       "   'release-group': {'id': '51182052-d6d4-49a0-bd87-a88cdb211bed',\n",
       "    'type': 'Album',\n",
       "    'title': '=',\n",
       "    'disambiguation': 'equals',\n",
       "    'primary-type': 'Album'},\n",
       "   'medium-list': [{'position': '1',\n",
       "     'format': 'Digital Media',\n",
       "     'track-list': [{'id': 'ef001faa-3c10-47dc-ad0d-d884969f313e',\n",
       "       'number': '4',\n",
       "       'title': 'Bad Habits',\n",
       "       'length': '231000',\n",
       "       'track_or_recording_length': '231000'}],\n",
       "     'track-count': 14}],\n",
       "   'medium-track-count': 14,\n",
       "   'medium-count': 1,\n",
       "   'artist-credit-phrase': 'Ed Sheeran'},\n",
       "  {'id': '83ad9b81-e88f-4d37-985d-e53f132781a7',\n",
       "   'title': '=',\n",
       "   'status': 'Official',\n",
       "   'disambiguation': 'Dolby Atmos mix, tour edition',\n",
       "   'artist-credit': [{'name': 'Ed Sheeran',\n",
       "     'artist': {'id': 'b8a7c51f-362c-4dcb-a259-bc6e0095f0a6',\n",
       "      'name': 'Ed Sheeran',\n",
       "      'sort-name': 'Sheeran, Ed',\n",
       "      'disambiguation': 'UK singer-songwriter'}}],\n",
       "   'release-group': {'id': '51182052-d6d4-49a0-bd87-a88cdb211bed',\n",
       "    'type': 'Album',\n",
       "    'title': '=',\n",
       "    'disambiguation': 'equals',\n",
       "    'primary-type': 'Album'},\n",
       "   'medium-list': [{'position': '1',\n",
       "     'format': 'Digital Media',\n",
       "     'track-list': [{'id': '3385c96f-a04d-42cc-a55d-001034afb560',\n",
       "       'number': '4',\n",
       "       'title': 'Bad Habits',\n",
       "       'length': '231000',\n",
       "       'track_or_recording_length': '231000'}],\n",
       "     'track-count': 22}],\n",
       "   'medium-track-count': 22,\n",
       "   'medium-count': 1,\n",
       "   'artist-credit-phrase': 'Ed Sheeran'}],\n",
       " 'isrc-list': ['GBAHS2100365'],\n",
       " 'artist-credit-phrase': 'Ed Sheeran'}"
      ]
     },
     "execution_count": 53,
     "metadata": {},
     "output_type": "execute_result"
    }
   ],
   "source": [
    "search_results['recording-list'][0]"
   ]
  },
  {
   "cell_type": "code",
   "execution_count": null,
   "metadata": {},
   "outputs": [],
   "source": []
  }
 ],
 "metadata": {
  "kernelspec": {
   "display_name": "model_music",
   "language": "python",
   "name": "python3"
  },
  "language_info": {
   "codemirror_mode": {
    "name": "ipython",
    "version": 3
   },
   "file_extension": ".py",
   "mimetype": "text/x-python",
   "name": "python",
   "nbconvert_exporter": "python",
   "pygments_lexer": "ipython3",
   "version": "3.11.5"
  }
 },
 "nbformat": 4,
 "nbformat_minor": 2
}
